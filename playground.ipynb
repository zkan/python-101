{
 "cells": [
  {
   "cell_type": "code",
   "execution_count": 59,
   "id": "c7eec6cf-cb63-4744-827e-1be30ecc16f5",
   "metadata": {},
   "outputs": [],
   "source": [
    "import pandas as pd\n",
    "\n",
    "from provinces import bangkok_variations"
   ]
  },
  {
   "cell_type": "code",
   "execution_count": 26,
   "id": "dd9bdc5c-15e4-41c6-8f45-a6e580a32f89",
   "metadata": {},
   "outputs": [],
   "source": [
    "data = {\n",
    "    \"name\": [\"Kan Ouivirach\", \"John Doe\"],\n",
    "    \"location\": [\"กทม.\", \"กรุงเทพฯ\"],\n",
    "}"
   ]
  },
  {
   "cell_type": "code",
   "execution_count": 27,
   "id": "abee4699-41e7-4a1e-89fb-e0d91912b48e",
   "metadata": {},
   "outputs": [
    {
     "name": "stdout",
     "output_type": "stream",
     "text": [
      "{'name': ['Kan Ouivirach', 'John Doe'], 'location': ['กทม.', 'กรุงเทพฯ']}\n"
     ]
    }
   ],
   "source": [
    "print(data)"
   ]
  },
  {
   "cell_type": "code",
   "execution_count": 28,
   "id": "e0ff3178-e27f-48f4-bd44-58c2def160ca",
   "metadata": {},
   "outputs": [],
   "source": [
    "df = pd.DataFrame(data)"
   ]
  },
  {
   "cell_type": "code",
   "execution_count": 47,
   "id": "ff29d8b7-ff20-48ad-91bd-fe0b0a4a2089",
   "metadata": {},
   "outputs": [
    {
     "data": {
      "text/html": [
       "<div>\n",
       "<style scoped>\n",
       "    .dataframe tbody tr th:only-of-type {\n",
       "        vertical-align: middle;\n",
       "    }\n",
       "\n",
       "    .dataframe tbody tr th {\n",
       "        vertical-align: top;\n",
       "    }\n",
       "\n",
       "    .dataframe thead th {\n",
       "        text-align: right;\n",
       "    }\n",
       "</style>\n",
       "<table border=\"1\" class=\"dataframe\">\n",
       "  <thead>\n",
       "    <tr style=\"text-align: right;\">\n",
       "      <th></th>\n",
       "      <th>name</th>\n",
       "      <th>location</th>\n",
       "    </tr>\n",
       "  </thead>\n",
       "  <tbody>\n",
       "    <tr>\n",
       "      <th>0</th>\n",
       "      <td>Kan Ouivirach</td>\n",
       "      <td>กทม.</td>\n",
       "    </tr>\n",
       "    <tr>\n",
       "      <th>1</th>\n",
       "      <td>John Doe</td>\n",
       "      <td>กรุงเทพฯ</td>\n",
       "    </tr>\n",
       "  </tbody>\n",
       "</table>\n",
       "</div>"
      ],
      "text/plain": [
       "            name  location\n",
       "0  Kan Ouivirach      กทม.\n",
       "1       John Doe  กรุงเทพฯ"
      ]
     },
     "execution_count": 47,
     "metadata": {},
     "output_type": "execute_result"
    }
   ],
   "source": [
    "df.head()"
   ]
  },
  {
   "cell_type": "code",
   "execution_count": 61,
   "id": "2359384b-451e-4944-a6af-4ee74b168ea2",
   "metadata": {},
   "outputs": [
    {
     "name": "stdout",
     "output_type": "stream",
     "text": [
      "['กทม.', 'กรุงเทพฯ']\n"
     ]
    }
   ],
   "source": [
    "print(bangkok_variations)"
   ]
  },
  {
   "cell_type": "code",
   "execution_count": 60,
   "id": "454e998e-4b9a-493e-9ddd-d3ddcb15f91e",
   "metadata": {},
   "outputs": [],
   "source": [
    "def clean_thai_province(value):\n",
    "    # if value == \"กทม.\" or value == \"กรุงเทพฯ\":\n",
    "    if value in bangkok_variations:\n",
    "        return \"Bangkok\""
   ]
  },
  {
   "cell_type": "code",
   "execution_count": 51,
   "id": "dd9b6bac-b6f3-49d4-a415-a391e2401635",
   "metadata": {},
   "outputs": [],
   "source": [
    "new_df = df.copy(deep=True)"
   ]
  },
  {
   "cell_type": "code",
   "execution_count": 55,
   "id": "48ba53ab-7da1-4cb6-b45b-1c05342fd669",
   "metadata": {},
   "outputs": [],
   "source": [
    "new_df[\"location\"] = df[\"location\"].map(clean_thai_province)"
   ]
  },
  {
   "cell_type": "code",
   "execution_count": 56,
   "id": "b107dbf7-e223-4fc5-903d-f6850e6bac23",
   "metadata": {},
   "outputs": [
    {
     "data": {
      "text/html": [
       "<div>\n",
       "<style scoped>\n",
       "    .dataframe tbody tr th:only-of-type {\n",
       "        vertical-align: middle;\n",
       "    }\n",
       "\n",
       "    .dataframe tbody tr th {\n",
       "        vertical-align: top;\n",
       "    }\n",
       "\n",
       "    .dataframe thead th {\n",
       "        text-align: right;\n",
       "    }\n",
       "</style>\n",
       "<table border=\"1\" class=\"dataframe\">\n",
       "  <thead>\n",
       "    <tr style=\"text-align: right;\">\n",
       "      <th></th>\n",
       "      <th>name</th>\n",
       "      <th>location</th>\n",
       "    </tr>\n",
       "  </thead>\n",
       "  <tbody>\n",
       "    <tr>\n",
       "      <th>0</th>\n",
       "      <td>Kan Ouivirach</td>\n",
       "      <td>Bangkok</td>\n",
       "    </tr>\n",
       "    <tr>\n",
       "      <th>1</th>\n",
       "      <td>John Doe</td>\n",
       "      <td>Bangkok</td>\n",
       "    </tr>\n",
       "  </tbody>\n",
       "</table>\n",
       "</div>"
      ],
      "text/plain": [
       "            name location\n",
       "0  Kan Ouivirach  Bangkok\n",
       "1       John Doe  Bangkok"
      ]
     },
     "execution_count": 56,
     "metadata": {},
     "output_type": "execute_result"
    }
   ],
   "source": [
    "new_df.head()"
   ]
  },
  {
   "cell_type": "code",
   "execution_count": null,
   "id": "c2f88375-c104-4346-b5f9-e0d2f05dec72",
   "metadata": {},
   "outputs": [],
   "source": []
  }
 ],
 "metadata": {
  "kernelspec": {
   "display_name": "Python 3 (ipykernel)",
   "language": "python",
   "name": "python3"
  },
  "language_info": {
   "codemirror_mode": {
    "name": "ipython",
    "version": 3
   },
   "file_extension": ".py",
   "mimetype": "text/x-python",
   "name": "python",
   "nbconvert_exporter": "python",
   "pygments_lexer": "ipython3",
   "version": "3.10.8"
  }
 },
 "nbformat": 4,
 "nbformat_minor": 5
}
